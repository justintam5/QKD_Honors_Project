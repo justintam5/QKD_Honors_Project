{
 "cells": [
  {
   "attachments": {},
   "cell_type": "markdown",
   "metadata": {},
   "source": [
    "Import Necessary Packages and Classes from Other Files "
   ]
  },
  {
   "cell_type": "code",
   "execution_count": 2,
   "metadata": {},
   "outputs": [
    {
     "name": "stdout",
     "output_type": "stream",
     "text": [
      "61\n"
     ]
    }
   ],
   "source": [
    "# Imports \n",
    "import numpy as np\n",
    "import matplotlib.pyplot as plt\n",
    "from Channel import Channel\n",
    "from beam_gen import BeamGen\n",
    "from simulation import Simulation \n",
    "\n",
    "wavelength = 810E-6\n",
    "PI = np.pi\n",
    "wavevector = (2.0*PI)/wavelength\n",
    "\n",
    "graph_radius = 30\n",
    "precision = 400\n",
    "\n",
    "x = np.linspace(-graph_radius,graph_radius,precision+1); ## Grid points along x\n",
    "y = np.linspace(-graph_radius,graph_radius,precision+1) ## Grid points along y\n",
    "X,Y = np.meshgrid(x,y)\n",
    "r = np.sqrt(X**2+Y**2)\n",
    "phi = np.mod(np.arctan2(Y,X),2*PI)\n",
    "\n",
    "beamWaist = 2  # Define beam waist of 2 mm\n",
    "R = 20 #define radius of aperture to be 20 mm\n",
    "pixel_spacing = 0.5\n",
    "\n",
    "sim = Simulation(L=30*2, N=200, wavelength=810E-6, units=\"mm\")\n",
    "dimension = BeamGen(\"pixel\",0,0,beamWaist,r,phi,0.000001,wavevector, pixel_spacing=pixel_spacing, R=R).dimension\n",
    "\n",
    "print(dimension)"
   ]
  },
  {
   "cell_type": "code",
   "execution_count": 3,
   "metadata": {},
   "outputs": [],
   "source": [
    "\n",
    "for i in range (dimension):\n",
    "    sim.add_beam_gen(mode=\"pixel\", s=i, R=R, beam_waist=beamWaist, pixel_spacing=pixel_spacing)\n",
    "\n"
   ]
  },
  {
   "cell_type": "code",
   "execution_count": 8,
   "metadata": {},
   "outputs": [
    {
     "name": "stdout",
     "output_type": "stream",
     "text": [
      "5.177267392575402e-08\n"
     ]
    },
    {
     "ename": "IndexError",
     "evalue": "list index out of range",
     "output_type": "error",
     "traceback": [
      "\u001b[1;31m---------------------------------------------------------------------------\u001b[0m",
      "\u001b[1;31mIndexError\u001b[0m                                Traceback (most recent call last)",
      "\u001b[1;32m<ipython-input-8-30a8bb98b30b>\u001b[0m in \u001b[0;36m<module>\u001b[1;34m\u001b[0m\n\u001b[0;32m      8\u001b[0m \u001b[0mchannel_idx\u001b[0m \u001b[1;33m=\u001b[0m \u001b[1;36m0\u001b[0m\u001b[1;33m\u001b[0m\u001b[1;33m\u001b[0m\u001b[0m\n\u001b[0;32m      9\u001b[0m \u001b[0mprint\u001b[0m\u001b[1;33m(\u001b[0m\u001b[0msim\u001b[0m\u001b[1;33m.\u001b[0m\u001b[0mcompute_qber\u001b[0m\u001b[1;33m(\u001b[0m\u001b[0mchannel_index\u001b[0m\u001b[1;33m=\u001b[0m\u001b[0mchannel_idx\u001b[0m\u001b[1;33m)\u001b[0m\u001b[1;33m)\u001b[0m\u001b[1;33m\u001b[0m\u001b[1;33m\u001b[0m\u001b[0m\n\u001b[1;32m---> 10\u001b[1;33m \u001b[0msim\u001b[0m\u001b[1;33m.\u001b[0m\u001b[0mplot_beams\u001b[0m\u001b[1;33m(\u001b[0m\u001b[0mrun_index\u001b[0m\u001b[1;33m=\u001b[0m\u001b[1;36m1\u001b[0m\u001b[1;33m,\u001b[0m \u001b[0mplot_mub_basis\u001b[0m\u001b[1;33m=\u001b[0m\u001b[1;32mTrue\u001b[0m\u001b[1;33m)\u001b[0m\u001b[1;33m\u001b[0m\u001b[1;33m\u001b[0m\u001b[0m\n\u001b[0m\u001b[0;32m     11\u001b[0m \u001b[1;31m#sim.plot_detection_matrix(channel_idx, separate_mub=True)\u001b[0m\u001b[1;33m\u001b[0m\u001b[1;33m\u001b[0m\u001b[1;33m\u001b[0m\u001b[0m\n",
      "\u001b[1;32mc:\\Users\\jttam\\Desktop\\SCHOOL\\PHY4006\\QKD_Honors_Project\\Project Simulation 2023\\simulation.py\u001b[0m in \u001b[0;36mplot_beams\u001b[1;34m(self, run_indices, channel_index, channel_indices, run_index, plot_measurement_basis, plot_mub_basis)\u001b[0m\n\u001b[0;32m    426\u001b[0m             \u001b[1;32mfor\u001b[0m \u001b[0mchannel_idx\u001b[0m \u001b[1;32min\u001b[0m \u001b[0mrange\u001b[0m\u001b[1;33m(\u001b[0m\u001b[0mself\u001b[0m\u001b[1;33m.\u001b[0m\u001b[0mnum_channels\u001b[0m \u001b[1;33m+\u001b[0m \u001b[1;36m1\u001b[0m\u001b[1;33m)\u001b[0m\u001b[1;33m:\u001b[0m\u001b[1;33m\u001b[0m\u001b[1;33m\u001b[0m\u001b[0m\n\u001b[0;32m    427\u001b[0m                 \u001b[1;31m# Get current beam\u001b[0m\u001b[1;33m\u001b[0m\u001b[1;33m\u001b[0m\u001b[1;33m\u001b[0m\u001b[0m\n\u001b[1;32m--> 428\u001b[1;33m                 \u001b[0mbeam\u001b[0m \u001b[1;33m=\u001b[0m \u001b[0mself\u001b[0m\u001b[1;33m.\u001b[0m\u001b[0mruns\u001b[0m\u001b[1;33m[\u001b[0m\u001b[0mrun_index\u001b[0m\u001b[1;33m]\u001b[0m\u001b[1;33m[\u001b[0m\u001b[0mchannel_idx\u001b[0m\u001b[1;33m]\u001b[0m\u001b[1;33m\u001b[0m\u001b[1;33m\u001b[0m\u001b[0m\n\u001b[0m\u001b[0;32m    429\u001b[0m \u001b[1;33m\u001b[0m\u001b[0m\n\u001b[0;32m    430\u001b[0m                 \u001b[1;31m# Plot magnitude of current beam\u001b[0m\u001b[1;33m\u001b[0m\u001b[1;33m\u001b[0m\u001b[1;33m\u001b[0m\u001b[0m\n",
      "\u001b[1;31mIndexError\u001b[0m: list index out of range"
     ]
    },
    {
     "data": {
      "image/png": "[encoded data removed]",
      "text/plain": [
       "<Figure size 432x288 with 4 Axes>"
      ]
     },
     "metadata": {
      "needs_background": "light"
     },
     "output_type": "display_data"
    }
   ],
   "source": [
    "sim.add_channel(type=Channel.FREE_SPACE, dist=100E3)\n",
    "#sim.add_channel(type = Channel.ABBARATION, n = [3, 1, 4], m = [1, 1, 2], stre = np.array([0.9, 0.9, 0.9]), app = 3*beamWaist)\n",
    "#sim.add_channel(type = Channel.FREE_SPACE, dist = 10E3) \n",
    "\n",
    "\n",
    "sim.run(use_mub=True)\n",
    "\n",
    "channel_idx = 0\n",
    "print(sim.compute_qber(channel_index=channel_idx))\n",
    "sim.plot_beams(run_index=1)\n",
    "#sim.plot_detection_matrix(channel_idx, separate_mub=True)"
   ]
  }
 ],
 "metadata": {
  "kernelspec": {
   "display_name": "Python 3",
   "language": "python",
   "name": "python3"
  },
  "language_info": {
   "codemirror_mode": {
    "name": "ipython",
    "version": 3
   },
   "file_extension": ".py",
   "mimetype": "text/x-python",
   "name": "python",
   "nbconvert_exporter": "python",
   "pygments_lexer": "ipython3",
   "version": "3.8.10"
  },
  "orig_nbformat": 4,
  "vscode": {
   "interpreter": {
    "hash": "90e2543d726cdfaa51710321b73ab3d0c6b4b013911398e63b4409d6b74905e5"
   }
  }
 },
 "nbformat": 4,
 "nbformat_minor": 2
}
